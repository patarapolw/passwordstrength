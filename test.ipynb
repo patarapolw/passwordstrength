{
 "cells": [
  {
   "cell_type": "code",
   "execution_count": 1,
   "metadata": {},
   "outputs": [],
   "source": [
    "from passwordstrength.passwordmeter import PasswordStrength"
   ]
  },
  {
   "cell_type": "code",
   "execution_count": 2,
   "metadata": {},
   "outputs": [
    {
     "data": {
      "text/plain": [
       "9"
      ]
     },
     "execution_count": 2,
     "metadata": {},
     "output_type": "execute_result"
    }
   ],
   "source": [
    "strength = PasswordStrength('password')\n",
    "strength.strength()"
   ]
  },
  {
   "cell_type": "code",
   "execution_count": 4,
   "metadata": {},
   "outputs": [
    {
     "data": {
      "text/plain": [
       "{'Additions': {'nAlphaLCBonus': 0,\n",
       "  'nAlphaUCBonus': 0,\n",
       "  'nLengthBonus': 32,\n",
       "  'nMidCharBonus': 0,\n",
       "  'nNumberBonus': 0,\n",
       "  'nSymbolBonus': 0},\n",
       " 'Deductions': {'nAlphasOnlyBonus': 8,\n",
       "  'nConsecAlphaLCBonus': 14,\n",
       "  'nConsecAlphaUCBonus': 0,\n",
       "  'nConsecNumberBonus': 0,\n",
       "  'nNumbersOnlyBonus': 0,\n",
       "  'nRepCharBonus': 1,\n",
       "  'nSeqAlphaBonus': 0,\n",
       "  'nSeqNumberBonus': 0,\n",
       "  'nSeqSymbolBonus': 0}}"
      ]
     },
     "execution_count": 4,
     "metadata": {},
     "output_type": "execute_result"
    }
   ],
   "source": [
    "strength.rule_scores()"
   ]
  },
  {
   "cell_type": "code",
   "execution_count": null,
   "metadata": {},
   "outputs": [],
   "source": []
  }
 ],
 "metadata": {
  "kernelspec": {
   "display_name": "Python 3",
   "language": "python",
   "name": "python3"
  },
  "language_info": {
   "codemirror_mode": {
    "name": "ipython",
    "version": 3
   },
   "file_extension": ".py",
   "mimetype": "text/x-python",
   "name": "python",
   "nbconvert_exporter": "python",
   "pygments_lexer": "ipython3",
   "version": "3.6.4"
  }
 },
 "nbformat": 4,
 "nbformat_minor": 1
}
